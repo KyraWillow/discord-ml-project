{
 "cells": [
  {
   "cell_type": "markdown",
   "id": "c4028ffa",
   "metadata": {},
   "source": [
    "# Analyst Data "
   ]
  },
  {
   "cell_type": "code",
   "execution_count": 126,
   "id": "8a649036",
   "metadata": {},
   "outputs": [],
   "source": [
    "import pandas as pd\n",
    "import numpy as np\n",
    "import matplotlib.pyplot as plt\n",
    "import seaborn as sns\n",
    "import joblib"
   ]
  },
  {
   "cell_type": "code",
   "execution_count": 127,
   "id": "5f2145a5",
   "metadata": {},
   "outputs": [],
   "source": [
    "X_train  = joblib.load(\"../data/interim/X_train.pkl\")\n",
    "y_train  = joblib.load(\"../data/interim/y_train.pkl\")"
   ]
  },
  {
   "cell_type": "markdown",
   "id": "e1cf53e2",
   "metadata": {},
   "source": [
    "**Statistika Deskriptif**"
   ]
  },
  {
   "cell_type": "code",
   "execution_count": 128,
   "id": "bc45899a",
   "metadata": {},
   "outputs": [
    {
     "data": {
      "application/vnd.microsoft.datawrangler.viewer.v0+json": {
       "columns": [
        {
         "name": "index",
         "rawType": "int64",
         "type": "integer"
        },
        {
         "name": "Patient_ID",
         "rawType": "int64",
         "type": "integer"
        },
        {
         "name": "Age",
         "rawType": "int64",
         "type": "integer"
        },
        {
         "name": "Gender",
         "rawType": "object",
         "type": "string"
        },
        {
         "name": "Tumor_Size",
         "rawType": "float64",
         "type": "float"
        },
        {
         "name": "Location",
         "rawType": "object",
         "type": "string"
        },
        {
         "name": "Histology",
         "rawType": "object",
         "type": "string"
        },
        {
         "name": "Stage",
         "rawType": "object",
         "type": "string"
        },
        {
         "name": "Symptom_1",
         "rawType": "object",
         "type": "string"
        },
        {
         "name": "Symptom_2",
         "rawType": "object",
         "type": "string"
        },
        {
         "name": "Symptom_3",
         "rawType": "object",
         "type": "string"
        },
        {
         "name": "Radiation_Treatment",
         "rawType": "object",
         "type": "string"
        },
        {
         "name": "Surgery_Performed",
         "rawType": "object",
         "type": "string"
        },
        {
         "name": "Chemotherapy",
         "rawType": "object",
         "type": "string"
        },
        {
         "name": "Survival_Rate",
         "rawType": "float64",
         "type": "float"
        },
        {
         "name": "Tumor_Growth_Rate",
         "rawType": "float64",
         "type": "float"
        },
        {
         "name": "Family_History",
         "rawType": "object",
         "type": "string"
        },
        {
         "name": "MRI_Result",
         "rawType": "object",
         "type": "string"
        },
        {
         "name": "Follow_Up_Required",
         "rawType": "object",
         "type": "string"
        }
       ],
       "ref": "1a09d8b5-5409-4b7e-9298-1c7c094da823",
       "rows": [
        [
         "3888",
         "3889",
         "73",
         "Male",
         "4.136646580757585",
         "Parietal",
         "Glioblastoma",
         "IV",
         "Nausea",
         "Nausea",
         "Vision Issues",
         "No",
         "No",
         "No",
         "66.06834241439806",
         "1.0311697517780052",
         "No",
         "Positive",
         "Yes"
        ],
        [
         "10357",
         "10358",
         "38",
         "Male",
         "4.939979412489219",
         "Parietal",
         "Medulloblastoma",
         "II",
         "Seizures",
         "Seizures",
         "Nausea",
         "No",
         "No",
         "Yes",
         "76.21460996307867",
         "0.1534505490221425",
         "No",
         "Positive",
         "Yes"
        ],
        [
         "6161",
         "6162",
         "59",
         "Female",
         "7.672173766919675",
         "Frontal",
         "Medulloblastoma",
         "III",
         "Seizures",
         "Headache",
         "Vision Issues",
         "Yes",
         "Yes",
         "No",
         "59.53594952616221",
         "2.3057029422426583",
         "No",
         "Negative",
         "Yes"
        ],
        [
         "6547",
         "6548",
         "25",
         "Female",
         "3.7197029105783166",
         "Frontal",
         "Astrocytoma",
         "II",
         "Seizures",
         "Seizures",
         "Seizures",
         "No",
         "Yes",
         "Yes",
         "43.35318968927282",
         "0.4181777324588849",
         "Yes",
         "Positive",
         "No"
        ],
        [
         "18956",
         "18957",
         "56",
         "Female",
         "0.9230679156037302",
         "Occipital",
         "Glioblastoma",
         "III",
         "Seizures",
         "Seizures",
         "Nausea",
         "Yes",
         "No",
         "No",
         "90.35786441750726",
         "1.1143780977566686",
         "No",
         "Positive",
         "No"
        ],
        [
         "3945",
         "3946",
         "51",
         "Male",
         "8.985234493732523",
         "Temporal",
         "Astrocytoma",
         "II",
         "Seizures",
         "Seizures",
         "Nausea",
         "No",
         "No",
         "No",
         "41.11322125554656",
         "0.6214731441951937",
         "No",
         "Negative",
         "No"
        ],
        [
         "1495",
         "1496",
         "70",
         "Female",
         "2.681925014489108",
         "Occipital",
         "Astrocytoma",
         "I",
         "Nausea",
         "Headache",
         "Headache",
         "Yes",
         "No",
         "No",
         "90.1673120290702",
         "2.503098230728477",
         "No",
         "Negative",
         "No"
        ],
        [
         "11152",
         "11153",
         "67",
         "Male",
         "8.365812361577321",
         "Temporal",
         "Astrocytoma",
         "II",
         "Seizures",
         "Seizures",
         "Nausea",
         "No",
         "Yes",
         "Yes",
         "65.84168825823471",
         "1.1638419981816568",
         "No",
         "Negative",
         "Yes"
        ],
        [
         "7345",
         "7346",
         "55",
         "Male",
         "6.84630899969625",
         "Occipital",
         "Meningioma",
         "II",
         "Vision Issues",
         "Vision Issues",
         "Nausea",
         "Yes",
         "Yes",
         "No",
         "47.49897256977774",
         "2.570469669238974",
         "Yes",
         "Negative",
         "No"
        ],
        [
         "6130",
         "6131",
         "51",
         "Female",
         "7.82772585758419",
         "Occipital",
         "Meningioma",
         "II",
         "Nausea",
         "Seizures",
         "Headache",
         "No",
         "Yes",
         "No",
         "69.70237584060575",
         "1.978020172918609",
         "No",
         "Negative",
         "Yes"
        ]
       ],
       "shape": {
        "columns": 18,
        "rows": 10
       }
      },
      "text/html": [
       "<div>\n",
       "<style scoped>\n",
       "    .dataframe tbody tr th:only-of-type {\n",
       "        vertical-align: middle;\n",
       "    }\n",
       "\n",
       "    .dataframe tbody tr th {\n",
       "        vertical-align: top;\n",
       "    }\n",
       "\n",
       "    .dataframe thead th {\n",
       "        text-align: right;\n",
       "    }\n",
       "</style>\n",
       "<table border=\"1\" class=\"dataframe\">\n",
       "  <thead>\n",
       "    <tr style=\"text-align: right;\">\n",
       "      <th></th>\n",
       "      <th>Patient_ID</th>\n",
       "      <th>Age</th>\n",
       "      <th>Gender</th>\n",
       "      <th>Tumor_Size</th>\n",
       "      <th>Location</th>\n",
       "      <th>Histology</th>\n",
       "      <th>Stage</th>\n",
       "      <th>Symptom_1</th>\n",
       "      <th>Symptom_2</th>\n",
       "      <th>Symptom_3</th>\n",
       "      <th>Radiation_Treatment</th>\n",
       "      <th>Surgery_Performed</th>\n",
       "      <th>Chemotherapy</th>\n",
       "      <th>Survival_Rate</th>\n",
       "      <th>Tumor_Growth_Rate</th>\n",
       "      <th>Family_History</th>\n",
       "      <th>MRI_Result</th>\n",
       "      <th>Follow_Up_Required</th>\n",
       "    </tr>\n",
       "  </thead>\n",
       "  <tbody>\n",
       "    <tr>\n",
       "      <th>3888</th>\n",
       "      <td>3889</td>\n",
       "      <td>73</td>\n",
       "      <td>Male</td>\n",
       "      <td>4.136647</td>\n",
       "      <td>Parietal</td>\n",
       "      <td>Glioblastoma</td>\n",
       "      <td>IV</td>\n",
       "      <td>Nausea</td>\n",
       "      <td>Nausea</td>\n",
       "      <td>Vision Issues</td>\n",
       "      <td>No</td>\n",
       "      <td>No</td>\n",
       "      <td>No</td>\n",
       "      <td>66.068342</td>\n",
       "      <td>1.031170</td>\n",
       "      <td>No</td>\n",
       "      <td>Positive</td>\n",
       "      <td>Yes</td>\n",
       "    </tr>\n",
       "    <tr>\n",
       "      <th>10357</th>\n",
       "      <td>10358</td>\n",
       "      <td>38</td>\n",
       "      <td>Male</td>\n",
       "      <td>4.939979</td>\n",
       "      <td>Parietal</td>\n",
       "      <td>Medulloblastoma</td>\n",
       "      <td>II</td>\n",
       "      <td>Seizures</td>\n",
       "      <td>Seizures</td>\n",
       "      <td>Nausea</td>\n",
       "      <td>No</td>\n",
       "      <td>No</td>\n",
       "      <td>Yes</td>\n",
       "      <td>76.214610</td>\n",
       "      <td>0.153451</td>\n",
       "      <td>No</td>\n",
       "      <td>Positive</td>\n",
       "      <td>Yes</td>\n",
       "    </tr>\n",
       "    <tr>\n",
       "      <th>6161</th>\n",
       "      <td>6162</td>\n",
       "      <td>59</td>\n",
       "      <td>Female</td>\n",
       "      <td>7.672174</td>\n",
       "      <td>Frontal</td>\n",
       "      <td>Medulloblastoma</td>\n",
       "      <td>III</td>\n",
       "      <td>Seizures</td>\n",
       "      <td>Headache</td>\n",
       "      <td>Vision Issues</td>\n",
       "      <td>Yes</td>\n",
       "      <td>Yes</td>\n",
       "      <td>No</td>\n",
       "      <td>59.535950</td>\n",
       "      <td>2.305703</td>\n",
       "      <td>No</td>\n",
       "      <td>Negative</td>\n",
       "      <td>Yes</td>\n",
       "    </tr>\n",
       "    <tr>\n",
       "      <th>6547</th>\n",
       "      <td>6548</td>\n",
       "      <td>25</td>\n",
       "      <td>Female</td>\n",
       "      <td>3.719703</td>\n",
       "      <td>Frontal</td>\n",
       "      <td>Astrocytoma</td>\n",
       "      <td>II</td>\n",
       "      <td>Seizures</td>\n",
       "      <td>Seizures</td>\n",
       "      <td>Seizures</td>\n",
       "      <td>No</td>\n",
       "      <td>Yes</td>\n",
       "      <td>Yes</td>\n",
       "      <td>43.353190</td>\n",
       "      <td>0.418178</td>\n",
       "      <td>Yes</td>\n",
       "      <td>Positive</td>\n",
       "      <td>No</td>\n",
       "    </tr>\n",
       "    <tr>\n",
       "      <th>18956</th>\n",
       "      <td>18957</td>\n",
       "      <td>56</td>\n",
       "      <td>Female</td>\n",
       "      <td>0.923068</td>\n",
       "      <td>Occipital</td>\n",
       "      <td>Glioblastoma</td>\n",
       "      <td>III</td>\n",
       "      <td>Seizures</td>\n",
       "      <td>Seizures</td>\n",
       "      <td>Nausea</td>\n",
       "      <td>Yes</td>\n",
       "      <td>No</td>\n",
       "      <td>No</td>\n",
       "      <td>90.357864</td>\n",
       "      <td>1.114378</td>\n",
       "      <td>No</td>\n",
       "      <td>Positive</td>\n",
       "      <td>No</td>\n",
       "    </tr>\n",
       "    <tr>\n",
       "      <th>3945</th>\n",
       "      <td>3946</td>\n",
       "      <td>51</td>\n",
       "      <td>Male</td>\n",
       "      <td>8.985234</td>\n",
       "      <td>Temporal</td>\n",
       "      <td>Astrocytoma</td>\n",
       "      <td>II</td>\n",
       "      <td>Seizures</td>\n",
       "      <td>Seizures</td>\n",
       "      <td>Nausea</td>\n",
       "      <td>No</td>\n",
       "      <td>No</td>\n",
       "      <td>No</td>\n",
       "      <td>41.113221</td>\n",
       "      <td>0.621473</td>\n",
       "      <td>No</td>\n",
       "      <td>Negative</td>\n",
       "      <td>No</td>\n",
       "    </tr>\n",
       "    <tr>\n",
       "      <th>1495</th>\n",
       "      <td>1496</td>\n",
       "      <td>70</td>\n",
       "      <td>Female</td>\n",
       "      <td>2.681925</td>\n",
       "      <td>Occipital</td>\n",
       "      <td>Astrocytoma</td>\n",
       "      <td>I</td>\n",
       "      <td>Nausea</td>\n",
       "      <td>Headache</td>\n",
       "      <td>Headache</td>\n",
       "      <td>Yes</td>\n",
       "      <td>No</td>\n",
       "      <td>No</td>\n",
       "      <td>90.167312</td>\n",
       "      <td>2.503098</td>\n",
       "      <td>No</td>\n",
       "      <td>Negative</td>\n",
       "      <td>No</td>\n",
       "    </tr>\n",
       "    <tr>\n",
       "      <th>11152</th>\n",
       "      <td>11153</td>\n",
       "      <td>67</td>\n",
       "      <td>Male</td>\n",
       "      <td>8.365812</td>\n",
       "      <td>Temporal</td>\n",
       "      <td>Astrocytoma</td>\n",
       "      <td>II</td>\n",
       "      <td>Seizures</td>\n",
       "      <td>Seizures</td>\n",
       "      <td>Nausea</td>\n",
       "      <td>No</td>\n",
       "      <td>Yes</td>\n",
       "      <td>Yes</td>\n",
       "      <td>65.841688</td>\n",
       "      <td>1.163842</td>\n",
       "      <td>No</td>\n",
       "      <td>Negative</td>\n",
       "      <td>Yes</td>\n",
       "    </tr>\n",
       "    <tr>\n",
       "      <th>7345</th>\n",
       "      <td>7346</td>\n",
       "      <td>55</td>\n",
       "      <td>Male</td>\n",
       "      <td>6.846309</td>\n",
       "      <td>Occipital</td>\n",
       "      <td>Meningioma</td>\n",
       "      <td>II</td>\n",
       "      <td>Vision Issues</td>\n",
       "      <td>Vision Issues</td>\n",
       "      <td>Nausea</td>\n",
       "      <td>Yes</td>\n",
       "      <td>Yes</td>\n",
       "      <td>No</td>\n",
       "      <td>47.498973</td>\n",
       "      <td>2.570470</td>\n",
       "      <td>Yes</td>\n",
       "      <td>Negative</td>\n",
       "      <td>No</td>\n",
       "    </tr>\n",
       "    <tr>\n",
       "      <th>6130</th>\n",
       "      <td>6131</td>\n",
       "      <td>51</td>\n",
       "      <td>Female</td>\n",
       "      <td>7.827726</td>\n",
       "      <td>Occipital</td>\n",
       "      <td>Meningioma</td>\n",
       "      <td>II</td>\n",
       "      <td>Nausea</td>\n",
       "      <td>Seizures</td>\n",
       "      <td>Headache</td>\n",
       "      <td>No</td>\n",
       "      <td>Yes</td>\n",
       "      <td>No</td>\n",
       "      <td>69.702376</td>\n",
       "      <td>1.978020</td>\n",
       "      <td>No</td>\n",
       "      <td>Negative</td>\n",
       "      <td>Yes</td>\n",
       "    </tr>\n",
       "  </tbody>\n",
       "</table>\n",
       "</div>"
      ],
      "text/plain": [
       "       Patient_ID  Age  Gender  Tumor_Size   Location        Histology Stage  \\\n",
       "3888         3889   73    Male    4.136647   Parietal     Glioblastoma    IV   \n",
       "10357       10358   38    Male    4.939979   Parietal  Medulloblastoma    II   \n",
       "6161         6162   59  Female    7.672174    Frontal  Medulloblastoma   III   \n",
       "6547         6548   25  Female    3.719703    Frontal      Astrocytoma    II   \n",
       "18956       18957   56  Female    0.923068  Occipital     Glioblastoma   III   \n",
       "3945         3946   51    Male    8.985234   Temporal      Astrocytoma    II   \n",
       "1495         1496   70  Female    2.681925  Occipital      Astrocytoma     I   \n",
       "11152       11153   67    Male    8.365812   Temporal      Astrocytoma    II   \n",
       "7345         7346   55    Male    6.846309  Occipital       Meningioma    II   \n",
       "6130         6131   51  Female    7.827726  Occipital       Meningioma    II   \n",
       "\n",
       "           Symptom_1      Symptom_2      Symptom_3 Radiation_Treatment  \\\n",
       "3888          Nausea         Nausea  Vision Issues                  No   \n",
       "10357       Seizures       Seizures         Nausea                  No   \n",
       "6161        Seizures       Headache  Vision Issues                 Yes   \n",
       "6547        Seizures       Seizures       Seizures                  No   \n",
       "18956       Seizures       Seizures         Nausea                 Yes   \n",
       "3945        Seizures       Seizures         Nausea                  No   \n",
       "1495          Nausea       Headache       Headache                 Yes   \n",
       "11152       Seizures       Seizures         Nausea                  No   \n",
       "7345   Vision Issues  Vision Issues         Nausea                 Yes   \n",
       "6130          Nausea       Seizures       Headache                  No   \n",
       "\n",
       "      Surgery_Performed Chemotherapy  Survival_Rate  Tumor_Growth_Rate  \\\n",
       "3888                 No           No      66.068342           1.031170   \n",
       "10357                No          Yes      76.214610           0.153451   \n",
       "6161                Yes           No      59.535950           2.305703   \n",
       "6547                Yes          Yes      43.353190           0.418178   \n",
       "18956                No           No      90.357864           1.114378   \n",
       "3945                 No           No      41.113221           0.621473   \n",
       "1495                 No           No      90.167312           2.503098   \n",
       "11152               Yes          Yes      65.841688           1.163842   \n",
       "7345                Yes           No      47.498973           2.570470   \n",
       "6130                Yes           No      69.702376           1.978020   \n",
       "\n",
       "      Family_History MRI_Result Follow_Up_Required  \n",
       "3888              No   Positive                Yes  \n",
       "10357             No   Positive                Yes  \n",
       "6161              No   Negative                Yes  \n",
       "6547             Yes   Positive                 No  \n",
       "18956             No   Positive                 No  \n",
       "3945              No   Negative                 No  \n",
       "1495              No   Negative                 No  \n",
       "11152             No   Negative                Yes  \n",
       "7345             Yes   Negative                 No  \n",
       "6130              No   Negative                Yes  "
      ]
     },
     "execution_count": 128,
     "metadata": {},
     "output_type": "execute_result"
    }
   ],
   "source": [
    "X_train.sample(10)"
   ]
  },
  {
   "cell_type": "code",
   "execution_count": 129,
   "id": "309f0c81",
   "metadata": {},
   "outputs": [
    {
     "name": "stdout",
     "output_type": "stream",
     "text": [
      "<class 'pandas.core.frame.DataFrame'>\n",
      "Index: 16000 entries, 19881 to 14591\n",
      "Data columns (total 18 columns):\n",
      " #   Column               Non-Null Count  Dtype  \n",
      "---  ------               --------------  -----  \n",
      " 0   Patient_ID           16000 non-null  int64  \n",
      " 1   Age                  16000 non-null  int64  \n",
      " 2   Gender               16000 non-null  object \n",
      " 3   Tumor_Size           16000 non-null  float64\n",
      " 4   Location             16000 non-null  object \n",
      " 5   Histology            16000 non-null  object \n",
      " 6   Stage                16000 non-null  object \n",
      " 7   Symptom_1            16000 non-null  object \n",
      " 8   Symptom_2            16000 non-null  object \n",
      " 9   Symptom_3            16000 non-null  object \n",
      " 10  Radiation_Treatment  16000 non-null  object \n",
      " 11  Surgery_Performed    16000 non-null  object \n",
      " 12  Chemotherapy         16000 non-null  object \n",
      " 13  Survival_Rate        16000 non-null  float64\n",
      " 14  Tumor_Growth_Rate    16000 non-null  float64\n",
      " 15  Family_History       16000 non-null  object \n",
      " 16  MRI_Result           16000 non-null  object \n",
      " 17  Follow_Up_Required   16000 non-null  object \n",
      "dtypes: float64(3), int64(2), object(13)\n",
      "memory usage: 2.3+ MB\n"
     ]
    }
   ],
   "source": [
    "X_train.info()"
   ]
  },
  {
   "cell_type": "code",
   "execution_count": 130,
   "id": "ed5e6cd6",
   "metadata": {},
   "outputs": [
    {
     "data": {
      "application/vnd.microsoft.datawrangler.viewer.v0+json": {
       "columns": [
        {
         "name": "index",
         "rawType": "object",
         "type": "string"
        },
        {
         "name": "Patient_ID",
         "rawType": "float64",
         "type": "float"
        },
        {
         "name": "Age",
         "rawType": "float64",
         "type": "float"
        },
        {
         "name": "Tumor_Size",
         "rawType": "float64",
         "type": "float"
        },
        {
         "name": "Survival_Rate",
         "rawType": "float64",
         "type": "float"
        },
        {
         "name": "Tumor_Growth_Rate",
         "rawType": "float64",
         "type": "float"
        }
       ],
       "ref": "4deab827-9c06-4adf-8d10-eeb83ad932dd",
       "rows": [
        [
         "count",
         "16000.0",
         "16000.0",
         "16000.0",
         "16000.0",
         "16000.0"
        ],
        [
         "mean",
         "10014.5658125",
         "49.41975",
         "5.214677749196325",
         "70.09533579146184",
         "1.5469260831349514"
        ],
        [
         "std",
         "5773.094930125065",
         "17.41002955936832",
         "2.755902163118543",
         "17.273182098979998",
         "0.8354170241789203"
        ],
        [
         "min",
         "1.0",
         "20.0",
         "0.5005988035594164",
         "40.00238600421792",
         "0.1008204464192394"
        ],
        [
         "25%",
         "5036.75",
         "34.0",
         "2.8038520007317427",
         "55.17728108992935",
         "0.8323097530925425"
        ],
        [
         "50%",
         "10038.5",
         "49.0",
         "5.166046192104881",
         "70.23541745138498",
         "1.541899016880262"
        ],
        [
         "75%",
         "14994.25",
         "65.0",
         "7.60004033315005",
         "85.0187803284455",
         "2.261489962041227"
        ],
        [
         "max",
         "20000.0",
         "79.0",
         "9.999420149756745",
         "99.99812548486167",
         "2.999803570294302"
        ]
       ],
       "shape": {
        "columns": 5,
        "rows": 8
       }
      },
      "text/html": [
       "<div>\n",
       "<style scoped>\n",
       "    .dataframe tbody tr th:only-of-type {\n",
       "        vertical-align: middle;\n",
       "    }\n",
       "\n",
       "    .dataframe tbody tr th {\n",
       "        vertical-align: top;\n",
       "    }\n",
       "\n",
       "    .dataframe thead th {\n",
       "        text-align: right;\n",
       "    }\n",
       "</style>\n",
       "<table border=\"1\" class=\"dataframe\">\n",
       "  <thead>\n",
       "    <tr style=\"text-align: right;\">\n",
       "      <th></th>\n",
       "      <th>Patient_ID</th>\n",
       "      <th>Age</th>\n",
       "      <th>Tumor_Size</th>\n",
       "      <th>Survival_Rate</th>\n",
       "      <th>Tumor_Growth_Rate</th>\n",
       "    </tr>\n",
       "  </thead>\n",
       "  <tbody>\n",
       "    <tr>\n",
       "      <th>count</th>\n",
       "      <td>16000.000000</td>\n",
       "      <td>16000.00000</td>\n",
       "      <td>16000.000000</td>\n",
       "      <td>16000.000000</td>\n",
       "      <td>16000.000000</td>\n",
       "    </tr>\n",
       "    <tr>\n",
       "      <th>mean</th>\n",
       "      <td>10014.565813</td>\n",
       "      <td>49.41975</td>\n",
       "      <td>5.214678</td>\n",
       "      <td>70.095336</td>\n",
       "      <td>1.546926</td>\n",
       "    </tr>\n",
       "    <tr>\n",
       "      <th>std</th>\n",
       "      <td>5773.094930</td>\n",
       "      <td>17.41003</td>\n",
       "      <td>2.755902</td>\n",
       "      <td>17.273182</td>\n",
       "      <td>0.835417</td>\n",
       "    </tr>\n",
       "    <tr>\n",
       "      <th>min</th>\n",
       "      <td>1.000000</td>\n",
       "      <td>20.00000</td>\n",
       "      <td>0.500599</td>\n",
       "      <td>40.002386</td>\n",
       "      <td>0.100820</td>\n",
       "    </tr>\n",
       "    <tr>\n",
       "      <th>25%</th>\n",
       "      <td>5036.750000</td>\n",
       "      <td>34.00000</td>\n",
       "      <td>2.803852</td>\n",
       "      <td>55.177281</td>\n",
       "      <td>0.832310</td>\n",
       "    </tr>\n",
       "    <tr>\n",
       "      <th>50%</th>\n",
       "      <td>10038.500000</td>\n",
       "      <td>49.00000</td>\n",
       "      <td>5.166046</td>\n",
       "      <td>70.235417</td>\n",
       "      <td>1.541899</td>\n",
       "    </tr>\n",
       "    <tr>\n",
       "      <th>75%</th>\n",
       "      <td>14994.250000</td>\n",
       "      <td>65.00000</td>\n",
       "      <td>7.600040</td>\n",
       "      <td>85.018780</td>\n",
       "      <td>2.261490</td>\n",
       "    </tr>\n",
       "    <tr>\n",
       "      <th>max</th>\n",
       "      <td>20000.000000</td>\n",
       "      <td>79.00000</td>\n",
       "      <td>9.999420</td>\n",
       "      <td>99.998125</td>\n",
       "      <td>2.999804</td>\n",
       "    </tr>\n",
       "  </tbody>\n",
       "</table>\n",
       "</div>"
      ],
      "text/plain": [
       "         Patient_ID          Age    Tumor_Size  Survival_Rate  \\\n",
       "count  16000.000000  16000.00000  16000.000000   16000.000000   \n",
       "mean   10014.565813     49.41975      5.214678      70.095336   \n",
       "std     5773.094930     17.41003      2.755902      17.273182   \n",
       "min        1.000000     20.00000      0.500599      40.002386   \n",
       "25%     5036.750000     34.00000      2.803852      55.177281   \n",
       "50%    10038.500000     49.00000      5.166046      70.235417   \n",
       "75%    14994.250000     65.00000      7.600040      85.018780   \n",
       "max    20000.000000     79.00000      9.999420      99.998125   \n",
       "\n",
       "       Tumor_Growth_Rate  \n",
       "count       16000.000000  \n",
       "mean            1.546926  \n",
       "std             0.835417  \n",
       "min             0.100820  \n",
       "25%             0.832310  \n",
       "50%             1.541899  \n",
       "75%             2.261490  \n",
       "max             2.999804  "
      ]
     },
     "execution_count": 130,
     "metadata": {},
     "output_type": "execute_result"
    }
   ],
   "source": [
    "X_train.describe()"
   ]
  },
  {
   "cell_type": "markdown",
   "id": "af05b50a",
   "metadata": {},
   "source": [
    "**Data Cleaning**"
   ]
  },
  {
   "cell_type": "code",
   "execution_count": 131,
   "id": "6fba1826",
   "metadata": {},
   "outputs": [
    {
     "data": {
      "application/vnd.microsoft.datawrangler.viewer.v0+json": {
       "columns": [
        {
         "name": "index",
         "rawType": "object",
         "type": "string"
        },
        {
         "name": "0",
         "rawType": "float64",
         "type": "float"
        }
       ],
       "ref": "8843b51a-5dce-425d-8adb-22c175a52b5c",
       "rows": [
        [
         "Patient_ID",
         "0.0"
        ],
        [
         "Age",
         "0.0"
        ],
        [
         "Gender",
         "0.0"
        ],
        [
         "Tumor_Size",
         "0.0"
        ],
        [
         "Location",
         "0.0"
        ],
        [
         "Histology",
         "0.0"
        ],
        [
         "Stage",
         "0.0"
        ],
        [
         "Symptom_1",
         "0.0"
        ],
        [
         "Symptom_2",
         "0.0"
        ],
        [
         "Symptom_3",
         "0.0"
        ],
        [
         "Radiation_Treatment",
         "0.0"
        ],
        [
         "Surgery_Performed",
         "0.0"
        ],
        [
         "Chemotherapy",
         "0.0"
        ],
        [
         "Survival_Rate",
         "0.0"
        ],
        [
         "Tumor_Growth_Rate",
         "0.0"
        ],
        [
         "Family_History",
         "0.0"
        ],
        [
         "MRI_Result",
         "0.0"
        ],
        [
         "Follow_Up_Required",
         "0.0"
        ]
       ],
       "shape": {
        "columns": 1,
        "rows": 18
       }
      },
      "text/plain": [
       "Patient_ID             0.0\n",
       "Age                    0.0\n",
       "Gender                 0.0\n",
       "Tumor_Size             0.0\n",
       "Location               0.0\n",
       "Histology              0.0\n",
       "Stage                  0.0\n",
       "Symptom_1              0.0\n",
       "Symptom_2              0.0\n",
       "Symptom_3              0.0\n",
       "Radiation_Treatment    0.0\n",
       "Surgery_Performed      0.0\n",
       "Chemotherapy           0.0\n",
       "Survival_Rate          0.0\n",
       "Tumor_Growth_Rate      0.0\n",
       "Family_History         0.0\n",
       "MRI_Result             0.0\n",
       "Follow_Up_Required     0.0\n",
       "dtype: float64"
      ]
     },
     "execution_count": 131,
     "metadata": {},
     "output_type": "execute_result"
    }
   ],
   "source": [
    "X_train.isna().sum() / len(X_train) * 100"
   ]
  },
  {
   "cell_type": "code",
   "execution_count": 132,
   "id": "464939d7",
   "metadata": {},
   "outputs": [
    {
     "data": {
      "text/plain": [
       "np.int64(0)"
      ]
     },
     "execution_count": 132,
     "metadata": {},
     "output_type": "execute_result"
    }
   ],
   "source": [
    "X_train.duplicated().sum()"
   ]
  },
  {
   "cell_type": "code",
   "execution_count": 133,
   "id": "59abe947",
   "metadata": {},
   "outputs": [],
   "source": [
    "X_train = X_train.drop('Patient_ID', axis=1)"
   ]
  },
  {
   "cell_type": "code",
   "execution_count": 134,
   "id": "0c12ec6f",
   "metadata": {},
   "outputs": [
    {
     "name": "stdout",
     "output_type": "stream",
     "text": [
      "DataFrame Gabungan untuk Plotting:\n"
     ]
    },
    {
     "data": {
      "application/vnd.microsoft.datawrangler.viewer.v0+json": {
       "columns": [
        {
         "name": "index",
         "rawType": "int64",
         "type": "integer"
        },
        {
         "name": "Age",
         "rawType": "int64",
         "type": "integer"
        },
        {
         "name": "Gender",
         "rawType": "object",
         "type": "string"
        },
        {
         "name": "Tumor_Size",
         "rawType": "float64",
         "type": "float"
        },
        {
         "name": "Location",
         "rawType": "object",
         "type": "string"
        },
        {
         "name": "Histology",
         "rawType": "object",
         "type": "string"
        },
        {
         "name": "Stage",
         "rawType": "object",
         "type": "string"
        },
        {
         "name": "Symptom_1",
         "rawType": "object",
         "type": "string"
        },
        {
         "name": "Symptom_2",
         "rawType": "object",
         "type": "string"
        },
        {
         "name": "Symptom_3",
         "rawType": "object",
         "type": "string"
        },
        {
         "name": "Radiation_Treatment",
         "rawType": "object",
         "type": "string"
        },
        {
         "name": "Surgery_Performed",
         "rawType": "object",
         "type": "string"
        },
        {
         "name": "Chemotherapy",
         "rawType": "object",
         "type": "string"
        },
        {
         "name": "Survival_Rate",
         "rawType": "float64",
         "type": "float"
        },
        {
         "name": "Tumor_Growth_Rate",
         "rawType": "float64",
         "type": "float"
        },
        {
         "name": "Family_History",
         "rawType": "object",
         "type": "string"
        },
        {
         "name": "MRI_Result",
         "rawType": "object",
         "type": "string"
        },
        {
         "name": "Follow_Up_Required",
         "rawType": "object",
         "type": "string"
        },
        {
         "name": "Diagnosis",
         "rawType": "object",
         "type": "string"
        }
       ],
       "ref": "a236116e-12b2-4843-891d-7f53240d10ee",
       "rows": [
        [
         "19881",
         "50",
         "Male",
         "7.544846340535725",
         "Parietal",
         "Glioblastoma",
         "II",
         "Nausea",
         "Seizures",
         "Nausea",
         "No",
         "No",
         "No",
         "55.44133053176824",
         "2.380341086518944",
         "No",
         "Negative",
         "Yes",
         "Benign"
        ],
        [
         "17740",
         "46",
         "Male",
         "1.4505856962456307",
         "Temporal",
         "Medulloblastoma",
         "II",
         "Nausea",
         "Vision Issues",
         "Headache",
         "No",
         "No",
         "No",
         "67.18562440461719",
         "1.2486452812915236",
         "Yes",
         "Negative",
         "No",
         "Benign"
        ],
        [
         "5361",
         "30",
         "Female",
         "1.1086928075146487",
         "Parietal",
         "Medulloblastoma",
         "IV",
         "Seizures",
         "Vision Issues",
         "Seizures",
         "No",
         "Yes",
         "Yes",
         "50.656056108775374",
         "2.621738802798435",
         "Yes",
         "Positive",
         "Yes",
         "Benign"
        ],
        [
         "12735",
         "38",
         "Female",
         "4.576600417687314",
         "Occipital",
         "Meningioma",
         "IV",
         "Seizures",
         "Nausea",
         "Vision Issues",
         "Yes",
         "Yes",
         "Yes",
         "78.2523167593204",
         "1.6965164946285611",
         "Yes",
         "Positive",
         "No",
         "Benign"
        ],
        [
         "16230",
         "57",
         "Male",
         "3.043994218283891",
         "Parietal",
         "Astrocytoma",
         "I",
         "Nausea",
         "Seizures",
         "Seizures",
         "Yes",
         "No",
         "Yes",
         "84.8442655948152",
         "1.7600732696597865",
         "Yes",
         "Negative",
         "Yes",
         "Malignant"
        ],
        [
         "15324",
         "75",
         "Male",
         "5.670287033253081",
         "Parietal",
         "Meningioma",
         "II",
         "Headache",
         "Seizures",
         "Headache",
         "No",
         "No",
         "No",
         "90.79616237652816",
         "0.6293486038468336",
         "Yes",
         "Positive",
         "Yes",
         "Malignant"
        ],
        [
         "9305",
         "28",
         "Male",
         "9.539548553606949",
         "Parietal",
         "Glioblastoma",
         "IV",
         "Vision Issues",
         "Nausea",
         "Seizures",
         "Yes",
         "Yes",
         "No",
         "99.5140663003562",
         "2.12969760385503",
         "No",
         "Positive",
         "Yes",
         "Malignant"
        ],
        [
         "5526",
         "23",
         "Female",
         "2.1114271055979077",
         "Parietal",
         "Meningioma",
         "II",
         "Headache",
         "Seizures",
         "Nausea",
         "Yes",
         "Yes",
         "No",
         "70.47792942103138",
         "0.2413858158075927",
         "Yes",
         "Negative",
         "No",
         "Benign"
        ],
        [
         "15840",
         "56",
         "Male",
         "9.070515588683325",
         "Frontal",
         "Glioblastoma",
         "I",
         "Nausea",
         "Vision Issues",
         "Headache",
         "Yes",
         "No",
         "No",
         "96.69738222088571",
         "1.190612315264399",
         "No",
         "Positive",
         "No",
         "Malignant"
        ],
        [
         "15247",
         "20",
         "Female",
         "8.72530419641631",
         "Frontal",
         "Medulloblastoma",
         "IV",
         "Vision Issues",
         "Headache",
         "Seizures",
         "No",
         "No",
         "No",
         "67.13880804479678",
         "1.5291128062048618",
         "No",
         "Negative",
         "Yes",
         "Malignant"
        ],
        [
         "10495",
         "24",
         "Male",
         "9.866327701042769",
         "Parietal",
         "Medulloblastoma",
         "III",
         "Nausea",
         "Seizures",
         "Nausea",
         "No",
         "No",
         "No",
         "64.34037109782204",
         "1.948067260724322",
         "Yes",
         "Negative",
         "No",
         "Malignant"
        ],
        [
         "221",
         "37",
         "Male",
         "8.285919632360518",
         "Parietal",
         "Medulloblastoma",
         "IV",
         "Vision Issues",
         "Headache",
         "Headache",
         "Yes",
         "Yes",
         "Yes",
         "62.90957552020527",
         "2.8319651737918936",
         "Yes",
         "Negative",
         "No",
         "Benign"
        ],
        [
         "4172",
         "36",
         "Female",
         "5.152162828551306",
         "Frontal",
         "Glioblastoma",
         "II",
         "Vision Issues",
         "Nausea",
         "Vision Issues",
         "Yes",
         "Yes",
         "Yes",
         "91.3975532512144",
         "0.2860982526196545",
         "No",
         "Positive",
         "No",
         "Benign"
        ],
        [
         "10563",
         "56",
         "Female",
         "2.1297045763889337",
         "Occipital",
         "Medulloblastoma",
         "I",
         "Seizures",
         "Seizures",
         "Vision Issues",
         "Yes",
         "Yes",
         "Yes",
         "87.15977018432537",
         "2.5548740546994515",
         "Yes",
         "Positive",
         "No",
         "Malignant"
        ],
        [
         "6422",
         "27",
         "Male",
         "5.317440333574156",
         "Occipital",
         "Meningioma",
         "IV",
         "Nausea",
         "Vision Issues",
         "Vision Issues",
         "No",
         "No",
         "Yes",
         "76.33601307607037",
         "1.89862731103982",
         "Yes",
         "Negative",
         "Yes",
         "Benign"
        ],
        [
         "1825",
         "41",
         "Male",
         "1.4125377531889178",
         "Parietal",
         "Meningioma",
         "IV",
         "Headache",
         "Vision Issues",
         "Nausea",
         "Yes",
         "No",
         "No",
         "72.88929942353761",
         "2.323036007735668",
         "Yes",
         "Positive",
         "No",
         "Benign"
        ],
        [
         "10547",
         "72",
         "Male",
         "3.743239459048071",
         "Occipital",
         "Medulloblastoma",
         "IV",
         "Vision Issues",
         "Vision Issues",
         "Headache",
         "No",
         "Yes",
         "No",
         "41.86441109344478",
         "2.0020473701956045",
         "No",
         "Positive",
         "No",
         "Malignant"
        ],
        [
         "18039",
         "47",
         "Male",
         "5.334337690473797",
         "Occipital",
         "Glioblastoma",
         "I",
         "Seizures",
         "Nausea",
         "Vision Issues",
         "No",
         "No",
         "No",
         "83.06549461421815",
         "1.7266561792343058",
         "Yes",
         "Positive",
         "No",
         "Benign"
        ],
        [
         "14330",
         "24",
         "Female",
         "3.173908240533222",
         "Occipital",
         "Astrocytoma",
         "II",
         "Vision Issues",
         "Nausea",
         "Headache",
         "Yes",
         "Yes",
         "Yes",
         "52.34632180089695",
         "0.7289611876513438",
         "Yes",
         "Positive",
         "No",
         "Benign"
        ],
        [
         "16110",
         "70",
         "Female",
         "1.0587878233930073",
         "Frontal",
         "Meningioma",
         "I",
         "Nausea",
         "Vision Issues",
         "Seizures",
         "No",
         "Yes",
         "No",
         "80.26434089550145",
         "1.9117246307964444",
         "No",
         "Positive",
         "Yes",
         "Malignant"
        ],
        [
         "17709",
         "47",
         "Male",
         "7.457559683256265",
         "Parietal",
         "Medulloblastoma",
         "I",
         "Headache",
         "Seizures",
         "Seizures",
         "No",
         "Yes",
         "No",
         "75.82318895918291",
         "2.7372658582369205",
         "Yes",
         "Negative",
         "Yes",
         "Malignant"
        ],
        [
         "10808",
         "24",
         "Female",
         "9.750466548194526",
         "Frontal",
         "Meningioma",
         "I",
         "Seizures",
         "Seizures",
         "Vision Issues",
         "No",
         "No",
         "Yes",
         "52.0610739875562",
         "1.4194068572906802",
         "Yes",
         "Positive",
         "Yes",
         "Malignant"
        ],
        [
         "19311",
         "40",
         "Female",
         "4.078287555531356",
         "Occipital",
         "Meningioma",
         "II",
         "Vision Issues",
         "Headache",
         "Vision Issues",
         "No",
         "Yes",
         "No",
         "94.60625719590855",
         "0.2853245681233939",
         "No",
         "Positive",
         "No",
         "Benign"
        ],
        [
         "12131",
         "75",
         "Female",
         "1.3863044224340193",
         "Occipital",
         "Meningioma",
         "II",
         "Seizures",
         "Seizures",
         "Nausea",
         "Yes",
         "Yes",
         "No",
         "96.3222567001186",
         "1.6876705653142556",
         "No",
         "Positive",
         "No",
         "Benign"
        ],
        [
         "10624",
         "36",
         "Female",
         "0.7238674965096067",
         "Occipital",
         "Astrocytoma",
         "II",
         "Nausea",
         "Vision Issues",
         "Nausea",
         "Yes",
         "Yes",
         "Yes",
         "41.61060259054032",
         "2.7707238096664897",
         "Yes",
         "Negative",
         "No",
         "Benign"
        ],
        [
         "9045",
         "57",
         "Female",
         "5.025660014498466",
         "Temporal",
         "Meningioma",
         "III",
         "Vision Issues",
         "Headache",
         "Seizures",
         "Yes",
         "Yes",
         "Yes",
         "63.37001796913647",
         "1.284814509346023",
         "No",
         "Negative",
         "No",
         "Malignant"
        ],
        [
         "17659",
         "57",
         "Female",
         "2.6663235021006466",
         "Temporal",
         "Medulloblastoma",
         "II",
         "Seizures",
         "Vision Issues",
         "Nausea",
         "No",
         "Yes",
         "No",
         "61.06301042870047",
         "1.373404433572174",
         "Yes",
         "Positive",
         "No",
         "Benign"
        ],
        [
         "10199",
         "78",
         "Male",
         "5.525706835068849",
         "Frontal",
         "Meningioma",
         "I",
         "Nausea",
         "Seizures",
         "Seizures",
         "Yes",
         "No",
         "No",
         "71.12382388140736",
         "0.9446980217334344",
         "No",
         "Positive",
         "Yes",
         "Benign"
        ],
        [
         "13420",
         "55",
         "Female",
         "1.966068416826819",
         "Frontal",
         "Astrocytoma",
         "II",
         "Nausea",
         "Nausea",
         "Vision Issues",
         "Yes",
         "Yes",
         "No",
         "87.97497921203431",
         "2.110156535973988",
         "No",
         "Negative",
         "No",
         "Malignant"
        ],
        [
         "9519",
         "55",
         "Female",
         "9.180016751456984",
         "Parietal",
         "Glioblastoma",
         "IV",
         "Vision Issues",
         "Nausea",
         "Seizures",
         "No",
         "No",
         "No",
         "57.29087956867363",
         "1.9366794087333747",
         "Yes",
         "Negative",
         "Yes",
         "Malignant"
        ],
        [
         "19527",
         "22",
         "Female",
         "8.865215567702903",
         "Frontal",
         "Meningioma",
         "I",
         "Vision Issues",
         "Seizures",
         "Vision Issues",
         "Yes",
         "No",
         "No",
         "42.23606643734298",
         "2.998930554002873",
         "No",
         "Positive",
         "No",
         "Benign"
        ],
        [
         "18449",
         "35",
         "Female",
         "2.213375995907747",
         "Frontal",
         "Medulloblastoma",
         "I",
         "Vision Issues",
         "Vision Issues",
         "Seizures",
         "No",
         "Yes",
         "Yes",
         "85.1405310931435",
         "1.7547460409363216",
         "No",
         "Positive",
         "No",
         "Malignant"
        ],
        [
         "16119",
         "55",
         "Male",
         "2.222485999366781",
         "Parietal",
         "Astrocytoma",
         "IV",
         "Seizures",
         "Nausea",
         "Headache",
         "Yes",
         "No",
         "Yes",
         "54.21890748423817",
         "2.451992584670165",
         "No",
         "Negative",
         "No",
         "Malignant"
        ],
        [
         "14079",
         "77",
         "Female",
         "1.936730435160057",
         "Parietal",
         "Medulloblastoma",
         "IV",
         "Nausea",
         "Headache",
         "Vision Issues",
         "No",
         "Yes",
         "Yes",
         "86.49339236060626",
         "1.6464147122368613",
         "Yes",
         "Negative",
         "Yes",
         "Benign"
        ],
        [
         "13550",
         "29",
         "Female",
         "8.621479762362537",
         "Occipital",
         "Glioblastoma",
         "IV",
         "Vision Issues",
         "Headache",
         "Seizures",
         "Yes",
         "Yes",
         "Yes",
         "48.83016698603026",
         "0.6267996888564547",
         "Yes",
         "Negative",
         "No",
         "Malignant"
        ],
        [
         "903",
         "46",
         "Male",
         "7.865023324787458",
         "Parietal",
         "Medulloblastoma",
         "I",
         "Seizures",
         "Seizures",
         "Headache",
         "No",
         "No",
         "Yes",
         "48.71648366465285",
         "2.852414492001941",
         "Yes",
         "Negative",
         "Yes",
         "Benign"
        ],
        [
         "15750",
         "25",
         "Female",
         "8.977987256533101",
         "Temporal",
         "Glioblastoma",
         "II",
         "Vision Issues",
         "Seizures",
         "Seizures",
         "No",
         "No",
         "No",
         "93.06973118628488",
         "0.8188118470330064",
         "Yes",
         "Negative",
         "Yes",
         "Benign"
        ],
        [
         "9880",
         "60",
         "Male",
         "1.5974357334201017",
         "Parietal",
         "Glioblastoma",
         "I",
         "Seizures",
         "Headache",
         "Nausea",
         "Yes",
         "Yes",
         "Yes",
         "45.89923336940429",
         "2.935387339397775",
         "No",
         "Negative",
         "Yes",
         "Benign"
        ],
        [
         "10361",
         "61",
         "Female",
         "7.258153701598933",
         "Occipital",
         "Glioblastoma",
         "IV",
         "Nausea",
         "Headache",
         "Nausea",
         "No",
         "Yes",
         "No",
         "41.493549028829065",
         "1.0428180361991366",
         "Yes",
         "Positive",
         "No",
         "Malignant"
        ],
        [
         "1479",
         "71",
         "Male",
         "4.513047411723538",
         "Parietal",
         "Medulloblastoma",
         "III",
         "Headache",
         "Vision Issues",
         "Seizures",
         "Yes",
         "No",
         "No",
         "90.3470959556592",
         "0.7367586470508111",
         "No",
         "Positive",
         "No",
         "Benign"
        ],
        [
         "19687",
         "20",
         "Female",
         "9.496186074209842",
         "Temporal",
         "Glioblastoma",
         "IV",
         "Vision Issues",
         "Nausea",
         "Seizures",
         "No",
         "Yes",
         "No",
         "61.82111971466867",
         "0.3807463511949251",
         "Yes",
         "Positive",
         "No",
         "Benign"
        ],
        [
         "17579",
         "27",
         "Female",
         "3.8376196726617846",
         "Parietal",
         "Medulloblastoma",
         "II",
         "Vision Issues",
         "Seizures",
         "Nausea",
         "No",
         "No",
         "Yes",
         "83.81450211651833",
         "1.741112220060263",
         "Yes",
         "Positive",
         "No",
         "Benign"
        ],
        [
         "12455",
         "43",
         "Male",
         "5.032538352066524",
         "Occipital",
         "Medulloblastoma",
         "I",
         "Nausea",
         "Seizures",
         "Headache",
         "No",
         "No",
         "Yes",
         "83.24999629368837",
         "1.282644193546668",
         "Yes",
         "Positive",
         "No",
         "Benign"
        ],
        [
         "17065",
         "61",
         "Male",
         "8.941924798612275",
         "Parietal",
         "Meningioma",
         "II",
         "Seizures",
         "Seizures",
         "Headache",
         "No",
         "Yes",
         "No",
         "71.66114395563638",
         "0.6609315022985048",
         "No",
         "Negative",
         "No",
         "Benign"
        ],
        [
         "7566",
         "22",
         "Male",
         "0.6340214350791735",
         "Parietal",
         "Meningioma",
         "I",
         "Seizures",
         "Seizures",
         "Vision Issues",
         "No",
         "Yes",
         "No",
         "55.6807078056634",
         "1.5349882709729463",
         "Yes",
         "Negative",
         "No",
         "Malignant"
        ],
        [
         "14603",
         "78",
         "Female",
         "8.982910983854927",
         "Temporal",
         "Medulloblastoma",
         "III",
         "Nausea",
         "Vision Issues",
         "Seizures",
         "Yes",
         "Yes",
         "No",
         "89.76159184185242",
         "0.1738806947830521",
         "No",
         "Positive",
         "Yes",
         "Benign"
        ],
        [
         "11555",
         "53",
         "Female",
         "9.299449861334674",
         "Frontal",
         "Glioblastoma",
         "II",
         "Headache",
         "Nausea",
         "Nausea",
         "Yes",
         "Yes",
         "No",
         "80.62640616934793",
         "0.1034060631636342",
         "Yes",
         "Negative",
         "Yes",
         "Benign"
        ],
        [
         "1775",
         "31",
         "Female",
         "5.33335085056902",
         "Frontal",
         "Glioblastoma",
         "I",
         "Nausea",
         "Nausea",
         "Nausea",
         "Yes",
         "Yes",
         "No",
         "54.18341771592797",
         "0.5001415252487165",
         "Yes",
         "Negative",
         "No",
         "Malignant"
        ],
        [
         "5744",
         "50",
         "Male",
         "5.604600712515342",
         "Frontal",
         "Astrocytoma",
         "I",
         "Seizures",
         "Seizures",
         "Seizures",
         "Yes",
         "Yes",
         "No",
         "44.86591403293284",
         "2.0638160813487465",
         "No",
         "Positive",
         "Yes",
         "Benign"
        ],
        [
         "12942",
         "51",
         "Male",
         "8.8607980823543",
         "Occipital",
         "Glioblastoma",
         "IV",
         "Seizures",
         "Nausea",
         "Vision Issues",
         "Yes",
         "Yes",
         "Yes",
         "40.067951200623895",
         "0.2320681322958586",
         "No",
         "Negative",
         "Yes",
         "Benign"
        ]
       ],
       "shape": {
        "columns": 18,
        "rows": 16000
       }
      },
      "text/html": [
       "<div>\n",
       "<style scoped>\n",
       "    .dataframe tbody tr th:only-of-type {\n",
       "        vertical-align: middle;\n",
       "    }\n",
       "\n",
       "    .dataframe tbody tr th {\n",
       "        vertical-align: top;\n",
       "    }\n",
       "\n",
       "    .dataframe thead th {\n",
       "        text-align: right;\n",
       "    }\n",
       "</style>\n",
       "<table border=\"1\" class=\"dataframe\">\n",
       "  <thead>\n",
       "    <tr style=\"text-align: right;\">\n",
       "      <th></th>\n",
       "      <th>Age</th>\n",
       "      <th>Gender</th>\n",
       "      <th>Tumor_Size</th>\n",
       "      <th>Location</th>\n",
       "      <th>Histology</th>\n",
       "      <th>Stage</th>\n",
       "      <th>Symptom_1</th>\n",
       "      <th>Symptom_2</th>\n",
       "      <th>Symptom_3</th>\n",
       "      <th>Radiation_Treatment</th>\n",
       "      <th>Surgery_Performed</th>\n",
       "      <th>Chemotherapy</th>\n",
       "      <th>Survival_Rate</th>\n",
       "      <th>Tumor_Growth_Rate</th>\n",
       "      <th>Family_History</th>\n",
       "      <th>MRI_Result</th>\n",
       "      <th>Follow_Up_Required</th>\n",
       "      <th>Diagnosis</th>\n",
       "    </tr>\n",
       "  </thead>\n",
       "  <tbody>\n",
       "    <tr>\n",
       "      <th>19881</th>\n",
       "      <td>50</td>\n",
       "      <td>Male</td>\n",
       "      <td>7.544846</td>\n",
       "      <td>Parietal</td>\n",
       "      <td>Glioblastoma</td>\n",
       "      <td>II</td>\n",
       "      <td>Nausea</td>\n",
       "      <td>Seizures</td>\n",
       "      <td>Nausea</td>\n",
       "      <td>No</td>\n",
       "      <td>No</td>\n",
       "      <td>No</td>\n",
       "      <td>55.441331</td>\n",
       "      <td>2.380341</td>\n",
       "      <td>No</td>\n",
       "      <td>Negative</td>\n",
       "      <td>Yes</td>\n",
       "      <td>Benign</td>\n",
       "    </tr>\n",
       "    <tr>\n",
       "      <th>17740</th>\n",
       "      <td>46</td>\n",
       "      <td>Male</td>\n",
       "      <td>1.450586</td>\n",
       "      <td>Temporal</td>\n",
       "      <td>Medulloblastoma</td>\n",
       "      <td>II</td>\n",
       "      <td>Nausea</td>\n",
       "      <td>Vision Issues</td>\n",
       "      <td>Headache</td>\n",
       "      <td>No</td>\n",
       "      <td>No</td>\n",
       "      <td>No</td>\n",
       "      <td>67.185624</td>\n",
       "      <td>1.248645</td>\n",
       "      <td>Yes</td>\n",
       "      <td>Negative</td>\n",
       "      <td>No</td>\n",
       "      <td>Benign</td>\n",
       "    </tr>\n",
       "    <tr>\n",
       "      <th>5361</th>\n",
       "      <td>30</td>\n",
       "      <td>Female</td>\n",
       "      <td>1.108693</td>\n",
       "      <td>Parietal</td>\n",
       "      <td>Medulloblastoma</td>\n",
       "      <td>IV</td>\n",
       "      <td>Seizures</td>\n",
       "      <td>Vision Issues</td>\n",
       "      <td>Seizures</td>\n",
       "      <td>No</td>\n",
       "      <td>Yes</td>\n",
       "      <td>Yes</td>\n",
       "      <td>50.656056</td>\n",
       "      <td>2.621739</td>\n",
       "      <td>Yes</td>\n",
       "      <td>Positive</td>\n",
       "      <td>Yes</td>\n",
       "      <td>Benign</td>\n",
       "    </tr>\n",
       "    <tr>\n",
       "      <th>12735</th>\n",
       "      <td>38</td>\n",
       "      <td>Female</td>\n",
       "      <td>4.576600</td>\n",
       "      <td>Occipital</td>\n",
       "      <td>Meningioma</td>\n",
       "      <td>IV</td>\n",
       "      <td>Seizures</td>\n",
       "      <td>Nausea</td>\n",
       "      <td>Vision Issues</td>\n",
       "      <td>Yes</td>\n",
       "      <td>Yes</td>\n",
       "      <td>Yes</td>\n",
       "      <td>78.252317</td>\n",
       "      <td>1.696516</td>\n",
       "      <td>Yes</td>\n",
       "      <td>Positive</td>\n",
       "      <td>No</td>\n",
       "      <td>Benign</td>\n",
       "    </tr>\n",
       "    <tr>\n",
       "      <th>16230</th>\n",
       "      <td>57</td>\n",
       "      <td>Male</td>\n",
       "      <td>3.043994</td>\n",
       "      <td>Parietal</td>\n",
       "      <td>Astrocytoma</td>\n",
       "      <td>I</td>\n",
       "      <td>Nausea</td>\n",
       "      <td>Seizures</td>\n",
       "      <td>Seizures</td>\n",
       "      <td>Yes</td>\n",
       "      <td>No</td>\n",
       "      <td>Yes</td>\n",
       "      <td>84.844266</td>\n",
       "      <td>1.760073</td>\n",
       "      <td>Yes</td>\n",
       "      <td>Negative</td>\n",
       "      <td>Yes</td>\n",
       "      <td>Malignant</td>\n",
       "    </tr>\n",
       "    <tr>\n",
       "      <th>...</th>\n",
       "      <td>...</td>\n",
       "      <td>...</td>\n",
       "      <td>...</td>\n",
       "      <td>...</td>\n",
       "      <td>...</td>\n",
       "      <td>...</td>\n",
       "      <td>...</td>\n",
       "      <td>...</td>\n",
       "      <td>...</td>\n",
       "      <td>...</td>\n",
       "      <td>...</td>\n",
       "      <td>...</td>\n",
       "      <td>...</td>\n",
       "      <td>...</td>\n",
       "      <td>...</td>\n",
       "      <td>...</td>\n",
       "      <td>...</td>\n",
       "      <td>...</td>\n",
       "    </tr>\n",
       "    <tr>\n",
       "      <th>17945</th>\n",
       "      <td>47</td>\n",
       "      <td>Male</td>\n",
       "      <td>9.288821</td>\n",
       "      <td>Temporal</td>\n",
       "      <td>Glioblastoma</td>\n",
       "      <td>II</td>\n",
       "      <td>Headache</td>\n",
       "      <td>Headache</td>\n",
       "      <td>Nausea</td>\n",
       "      <td>Yes</td>\n",
       "      <td>Yes</td>\n",
       "      <td>Yes</td>\n",
       "      <td>46.027212</td>\n",
       "      <td>1.396536</td>\n",
       "      <td>No</td>\n",
       "      <td>Positive</td>\n",
       "      <td>Yes</td>\n",
       "      <td>Malignant</td>\n",
       "    </tr>\n",
       "    <tr>\n",
       "      <th>7784</th>\n",
       "      <td>79</td>\n",
       "      <td>Male</td>\n",
       "      <td>0.682849</td>\n",
       "      <td>Frontal</td>\n",
       "      <td>Meningioma</td>\n",
       "      <td>III</td>\n",
       "      <td>Headache</td>\n",
       "      <td>Seizures</td>\n",
       "      <td>Seizures</td>\n",
       "      <td>No</td>\n",
       "      <td>No</td>\n",
       "      <td>Yes</td>\n",
       "      <td>93.014932</td>\n",
       "      <td>1.424692</td>\n",
       "      <td>Yes</td>\n",
       "      <td>Negative</td>\n",
       "      <td>No</td>\n",
       "      <td>Benign</td>\n",
       "    </tr>\n",
       "    <tr>\n",
       "      <th>12845</th>\n",
       "      <td>58</td>\n",
       "      <td>Female</td>\n",
       "      <td>5.200295</td>\n",
       "      <td>Temporal</td>\n",
       "      <td>Astrocytoma</td>\n",
       "      <td>II</td>\n",
       "      <td>Headache</td>\n",
       "      <td>Vision Issues</td>\n",
       "      <td>Vision Issues</td>\n",
       "      <td>Yes</td>\n",
       "      <td>Yes</td>\n",
       "      <td>No</td>\n",
       "      <td>40.636169</td>\n",
       "      <td>2.851925</td>\n",
       "      <td>No</td>\n",
       "      <td>Negative</td>\n",
       "      <td>Yes</td>\n",
       "      <td>Benign</td>\n",
       "    </tr>\n",
       "    <tr>\n",
       "      <th>8010</th>\n",
       "      <td>41</td>\n",
       "      <td>Male</td>\n",
       "      <td>6.535293</td>\n",
       "      <td>Temporal</td>\n",
       "      <td>Astrocytoma</td>\n",
       "      <td>I</td>\n",
       "      <td>Headache</td>\n",
       "      <td>Nausea</td>\n",
       "      <td>Vision Issues</td>\n",
       "      <td>No</td>\n",
       "      <td>No</td>\n",
       "      <td>Yes</td>\n",
       "      <td>63.233686</td>\n",
       "      <td>1.300473</td>\n",
       "      <td>No</td>\n",
       "      <td>Negative</td>\n",
       "      <td>No</td>\n",
       "      <td>Malignant</td>\n",
       "    </tr>\n",
       "    <tr>\n",
       "      <th>14591</th>\n",
       "      <td>78</td>\n",
       "      <td>Male</td>\n",
       "      <td>1.488554</td>\n",
       "      <td>Occipital</td>\n",
       "      <td>Astrocytoma</td>\n",
       "      <td>II</td>\n",
       "      <td>Nausea</td>\n",
       "      <td>Headache</td>\n",
       "      <td>Nausea</td>\n",
       "      <td>No</td>\n",
       "      <td>No</td>\n",
       "      <td>No</td>\n",
       "      <td>80.267603</td>\n",
       "      <td>0.918680</td>\n",
       "      <td>Yes</td>\n",
       "      <td>Negative</td>\n",
       "      <td>No</td>\n",
       "      <td>Benign</td>\n",
       "    </tr>\n",
       "  </tbody>\n",
       "</table>\n",
       "<p>16000 rows × 18 columns</p>\n",
       "</div>"
      ],
      "text/plain": [
       "       Age  Gender  Tumor_Size   Location        Histology Stage Symptom_1  \\\n",
       "19881   50    Male    7.544846   Parietal     Glioblastoma    II    Nausea   \n",
       "17740   46    Male    1.450586   Temporal  Medulloblastoma    II    Nausea   \n",
       "5361    30  Female    1.108693   Parietal  Medulloblastoma    IV  Seizures   \n",
       "12735   38  Female    4.576600  Occipital       Meningioma    IV  Seizures   \n",
       "16230   57    Male    3.043994   Parietal      Astrocytoma     I    Nausea   \n",
       "...    ...     ...         ...        ...              ...   ...       ...   \n",
       "17945   47    Male    9.288821   Temporal     Glioblastoma    II  Headache   \n",
       "7784    79    Male    0.682849    Frontal       Meningioma   III  Headache   \n",
       "12845   58  Female    5.200295   Temporal      Astrocytoma    II  Headache   \n",
       "8010    41    Male    6.535293   Temporal      Astrocytoma     I  Headache   \n",
       "14591   78    Male    1.488554  Occipital      Astrocytoma    II    Nausea   \n",
       "\n",
       "           Symptom_2      Symptom_3 Radiation_Treatment Surgery_Performed  \\\n",
       "19881       Seizures         Nausea                  No                No   \n",
       "17740  Vision Issues       Headache                  No                No   \n",
       "5361   Vision Issues       Seizures                  No               Yes   \n",
       "12735         Nausea  Vision Issues                 Yes               Yes   \n",
       "16230       Seizures       Seizures                 Yes                No   \n",
       "...              ...            ...                 ...               ...   \n",
       "17945       Headache         Nausea                 Yes               Yes   \n",
       "7784        Seizures       Seizures                  No                No   \n",
       "12845  Vision Issues  Vision Issues                 Yes               Yes   \n",
       "8010          Nausea  Vision Issues                  No                No   \n",
       "14591       Headache         Nausea                  No                No   \n",
       "\n",
       "      Chemotherapy  Survival_Rate  Tumor_Growth_Rate Family_History  \\\n",
       "19881           No      55.441331           2.380341             No   \n",
       "17740           No      67.185624           1.248645            Yes   \n",
       "5361           Yes      50.656056           2.621739            Yes   \n",
       "12735          Yes      78.252317           1.696516            Yes   \n",
       "16230          Yes      84.844266           1.760073            Yes   \n",
       "...            ...            ...                ...            ...   \n",
       "17945          Yes      46.027212           1.396536             No   \n",
       "7784           Yes      93.014932           1.424692            Yes   \n",
       "12845           No      40.636169           2.851925             No   \n",
       "8010           Yes      63.233686           1.300473             No   \n",
       "14591           No      80.267603           0.918680            Yes   \n",
       "\n",
       "      MRI_Result Follow_Up_Required  Diagnosis  \n",
       "19881   Negative                Yes     Benign  \n",
       "17740   Negative                 No     Benign  \n",
       "5361    Positive                Yes     Benign  \n",
       "12735   Positive                 No     Benign  \n",
       "16230   Negative                Yes  Malignant  \n",
       "...          ...                ...        ...  \n",
       "17945   Positive                Yes  Malignant  \n",
       "7784    Negative                 No     Benign  \n",
       "12845   Negative                Yes     Benign  \n",
       "8010    Negative                 No  Malignant  \n",
       "14591   Negative                 No     Benign  \n",
       "\n",
       "[16000 rows x 18 columns]"
      ]
     },
     "execution_count": 134,
     "metadata": {},
     "output_type": "execute_result"
    }
   ],
   "source": [
    "X_train_data = pd.DataFrame(X_train)\n",
    "y_train_data = pd.Series(y_train)\n",
    "\n",
    "df_plot = X_train_data.copy()\n",
    "df_plot['Diagnosis'] = y_train_data\n",
    "\n",
    "print(\"DataFrame Gabungan untuk Plotting:\")\n",
    "df_plot"
   ]
  },
  {
   "cell_type": "markdown",
   "id": "305c7859",
   "metadata": {},
   "source": [
    "## Viasualisasi Fitur Numerik"
   ]
  },
  {
   "cell_type": "code",
   "execution_count": 135,
   "id": "dadade90",
   "metadata": {},
   "outputs": [
    {
     "data": {
      "text/plain": [
       "Text(0.5, 1.0, 'Distribusi Umur Pasien')"
      ]
     },
     "execution_count": 135,
     "metadata": {},
     "output_type": "execute_result"
    },
    {
     "data": {
      "image/png": "[encoded data removed]",
      "text/plain": [
       "<Figure size 1200x800 with 1 Axes>"
      ]
     },
     "metadata": {},
     "output_type": "display_data"
    }
   ],
   "source": [
    "plt.figure(figsize=(12,8))\n",
    "sns.histplot(df_plot, x='Age', bins = 30, kde= True)\n",
    "plt.title('Distribusi Umur Pasien')"
   ]
  },
  {
   "cell_type": "code",
   "execution_count": 136,
   "id": "fa1fdbef",
   "metadata": {},
   "outputs": [],
   "source": [
    "grouped_age = [0, 20, 30, 50, 70, 100]  \n",
    "labels = ['Child/teens', 'Young Adult', 'Adult', 'Senior', 'Elderly']\n",
    "\n",
    "X_train['Age_Group'] = pd.cut(X_train['Age'], bins=grouped_age, labels=labels)"
   ]
  },
  {
   "cell_type": "code",
   "execution_count": 137,
   "id": "a8f6a4f8",
   "metadata": {},
   "outputs": [
    {
     "data": {
      "text/plain": [
       "<Axes: title={'center': 'Age grouped'}, xlabel='count', ylabel='Age_Group'>"
      ]
     },
     "execution_count": 137,
     "metadata": {},
     "output_type": "execute_result"
    },
    {
     "data": {
      "image/png": "[encoded data removed]",
      "text/plain": [
       "<Figure size 640x480 with 1 Axes>"
      ]
     },
     "metadata": {},
     "output_type": "display_data"
    }
   ],
   "source": [
    "plt.title(\"Age grouped\")\n",
    "sns.countplot(X_train['Age_Group'])"
   ]
  },
  {
   "cell_type": "markdown",
   "id": "3bb7e593",
   "metadata": {},
   "source": [
    "\n",
    "# Brain Tumor Size Categories (based on neurosurgical literature)\n",
    "\n",
    "| **Category** | **Diameter (cm)** | **Notes** |\n",
    "|--------------|-------------------|-----------|\n",
    "| Small        | < 2 cm            | Often incidental, may cause no symptoms. |\n",
    "| Medium       | 2 – 3 cm          | Symptoms may start depending on location. |\n",
    "| Large        | > 3 – 4.5 cm      | Often symptomatic, pressure effects more likely. |\n",
    "| Giant        | ≥ 5 cm            | Common cutoff for “giant meningioma” in most studies. |\n",
    "| Very Giant   | ≥ 7 cm            | Rare, but reported; causes severe mass effect. |\n",
    "\n",
    "---\n",
    "\n",
    "📌 **Key points:**\n",
    "- WHO **grade ≠ size** (biology determines grade).\n",
    "- **≥ 5 cm** is the most common definition of *giant meningioma*.\n",
    "- **≥ 7 cm** is sometimes called *very giant* in case reports.\n",
    "- Size matters for **surgery & symptoms**, not for grading.\n",
    "\n"
   ]
  },
  {
   "cell_type": "code",
   "execution_count": 138,
   "id": "440e21f2",
   "metadata": {},
   "outputs": [],
   "source": [
    "\n",
    "\n",
    "size_tumor = [0,2,3,5,7,100]\n",
    "tumor_label = [\"small\",\"medium\",\"large\",\"Giant\",\"very Giant\"]\n",
    "\n",
    "X_train[\"Tumor_size_grouped\"] = pd.cut(X_train[\"Tumor_Size\"],labels=tumor_label,bins=size_tumor)"
   ]
  },
  {
   "cell_type": "code",
   "execution_count": 139,
   "id": "342b3bea",
   "metadata": {},
   "outputs": [
    {
     "data": {
      "text/plain": [
       "<Axes: title={'center': 'Tumor size grouped'}, xlabel='count', ylabel='Tumor_size_grouped'>"
      ]
     },
     "execution_count": 139,
     "metadata": {},
     "output_type": "execute_result"
    },
    {
     "data": {
      "image/png": "[encoded data removed]",
      "text/plain": [
       "<Figure size 640x480 with 1 Axes>"
      ]
     },
     "metadata": {},
     "output_type": "display_data"
    }
   ],
   "source": [
    "plt.title(\"Tumor size grouped\")\n",
    "sns.countplot(X_train['Tumor_size_grouped'], color=\"red\")"
   ]
  },
  {
   "cell_type": "code",
   "execution_count": 158,
   "id": "1771a82d",
   "metadata": {},
   "outputs": [],
   "source": [
    "Surivival_rate = [0,25,50,75,100]\n",
    "labels_survival = [\"low\",\"moderetly low\", \"moderetly high\", \"high\"]\n",
    "\n",
    "X_train[\"Survival_rate_Group\"] = pd.cut(X_train[\"Survival_Rate\"], labels=labels_survival,bins=Surivival_rate)"
   ]
  },
  {
   "cell_type": "code",
   "execution_count": 159,
   "id": "c9c3ad47",
   "metadata": {},
   "outputs": [
    {
     "data": {
      "text/plain": [
       "<Axes: xlabel='count', ylabel='Survival_rate_Group'>"
      ]
     },
     "execution_count": 159,
     "metadata": {},
     "output_type": "execute_result"
    },
    {
     "data": {
      "image/png": "[encoded data removed]",
      "text/plain": [
       "<Figure size 640x480 with 1 Axes>"
      ]
     },
     "metadata": {},
     "output_type": "display_data"
    }
   ],
   "source": [
    "sns.countplot(X_train[\"Survival_rate_Group\"])"
   ]
  },
  {
   "cell_type": "code",
   "execution_count": null,
   "id": "07e04853",
   "metadata": {},
   "outputs": [
    {
     "data": {
      "text/plain": [
       "Text(0.5, 1.0, 'Distribusi Pertumbuhan Tumor Pasien')"
      ]
     },
     "execution_count": 141,
     "metadata": {},
     "output_type": "execute_result"
    },
    {
     "data": {
      "image/png": "[encoded data removed]",
      "text/plain": [
       "<Figure size 1200x800 with 1 Axes>"
      ]
     },
     "metadata": {},
     "output_type": "display_data"
    }
   ],
   "source": [
    "Surivival_rate = [0,25,50,75,100]\n",
    "labels_survival = [\"low\",\"moderetly low\", \"moderetly high\", \"high\"]\n",
    "\n",
    "X_train[\"Tumor_Growth_Rate_Group\"] = pd.cut(X_train[\"Tumor_Growth_Rate\"], labels=labels_survival,bins=Surivival_rate)\n",
    "\n",
    "sns.countplot(X_train[\"Tumor_size_grouped\"])"
   ]
  },
  {
   "cell_type": "markdown",
   "id": "ccbd6082",
   "metadata": {},
   "source": [
    "## Visualisasi Fitur Kategorikal"
   ]
  },
  {
   "cell_type": "code",
   "execution_count": 142,
   "id": "b9d518e2",
   "metadata": {},
   "outputs": [
    {
     "data": {
      "text/plain": [
       "Text(0.5, 1.0, 'Distribusi Stage Tumor di Setiap Lokasi')"
      ]
     },
     "execution_count": 142,
     "metadata": {},
     "output_type": "execute_result"
    },
    {
     "data": {
      "image/png": "[encoded data removed]",
      "text/plain": [
       "<Figure size 1000x800 with 1 Axes>"
      ]
     },
     "metadata": {},
     "output_type": "display_data"
    }
   ],
   "source": [
    "plt.figure(figsize=(10, 8))\n",
    "sns.countplot(df_plot, x='Location')\n",
    "plt.title('Distribusi Stage Tumor di Setiap Lokasi')"
   ]
  },
  {
   "cell_type": "code",
   "execution_count": 143,
   "id": "83ddf2dd",
   "metadata": {},
   "outputs": [
    {
     "name": "stdout",
     "output_type": "stream",
     "text": [
      "<class 'pandas.core.frame.DataFrame'>\n",
      "Index: 16000 entries, 19881 to 14591\n",
      "Data columns (total 18 columns):\n",
      " #   Column               Non-Null Count  Dtype  \n",
      "---  ------               --------------  -----  \n",
      " 0   Age                  16000 non-null  int64  \n",
      " 1   Gender               16000 non-null  object \n",
      " 2   Tumor_Size           16000 non-null  float64\n",
      " 3   Location             16000 non-null  object \n",
      " 4   Histology            16000 non-null  object \n",
      " 5   Stage                16000 non-null  object \n",
      " 6   Symptom_1            16000 non-null  object \n",
      " 7   Symptom_2            16000 non-null  object \n",
      " 8   Symptom_3            16000 non-null  object \n",
      " 9   Radiation_Treatment  16000 non-null  object \n",
      " 10  Surgery_Performed    16000 non-null  object \n",
      " 11  Chemotherapy         16000 non-null  object \n",
      " 12  Survival_Rate        16000 non-null  float64\n",
      " 13  Tumor_Growth_Rate    16000 non-null  float64\n",
      " 14  Family_History       16000 non-null  object \n",
      " 15  MRI_Result           16000 non-null  object \n",
      " 16  Follow_Up_Required   16000 non-null  object \n",
      " 17  Diagnosis            16000 non-null  object \n",
      "dtypes: float64(3), int64(1), object(14)\n",
      "memory usage: 2.3+ MB\n"
     ]
    }
   ],
   "source": [
    "df_plot.info()"
   ]
  },
  {
   "cell_type": "code",
   "execution_count": 144,
   "id": "eae65236",
   "metadata": {},
   "outputs": [
    {
     "data": {
      "text/plain": [
       "Text(0.5, 1.0, 'Frekuensi Setiap Tipe Histologi')"
      ]
     },
     "execution_count": 144,
     "metadata": {},
     "output_type": "execute_result"
    },
    {
     "data": {
      "image/png": "[encoded data removed]",
      "text/plain": [
       "<Figure size 1000x800 with 1 Axes>"
      ]
     },
     "metadata": {},
     "output_type": "display_data"
    }
   ],
   "source": [
    "plt.figure(figsize=(10, 8))\n",
    "sns.countplot(df_plot, x='Histology')\n",
    "plt.title('Frekuensi Setiap Tipe Histologi')"
   ]
  },
  {
   "cell_type": "code",
   "execution_count": 145,
   "id": "c57f9fbc",
   "metadata": {},
   "outputs": [
    {
     "data": {
      "text/plain": [
       "Text(0.5, 1.0, 'Distribusi Stadium Tumor')"
      ]
     },
     "execution_count": 145,
     "metadata": {},
     "output_type": "execute_result"
    },
    {
     "data": {
      "image/png": "[encoded data removed]",
      "text/plain": [
       "<Figure size 1000x800 with 1 Axes>"
      ]
     },
     "metadata": {},
     "output_type": "display_data"
    }
   ],
   "source": [
    "plt.figure(figsize=(10, 8))\n",
    "sns.countplot(df_plot, x='Stage')\n",
    "plt.title('Distribusi Stadium Tumor')"
   ]
  },
  {
   "cell_type": "code",
   "execution_count": 146,
   "id": "dc10d78c",
   "metadata": {},
   "outputs": [
    {
     "data": {
      "text/plain": [
       "Text(0.5, 1.0, 'Distribusi Pasien Berdasarkan Terapi Radiasi')"
      ]
     },
     "execution_count": 146,
     "metadata": {},
     "output_type": "execute_result"
    },
    {
     "data": {
      "image/png": "[encoded data removed]",
      "text/plain": [
       "<Figure size 1000x800 with 1 Axes>"
      ]
     },
     "metadata": {},
     "output_type": "display_data"
    }
   ],
   "source": [
    "plt.figure(figsize=(10, 8))\n",
    "sns.countplot(df_plot, x='Radiation_Treatment')\n",
    "plt.title('Distribusi Pasien Berdasarkan Terapi Radiasi')"
   ]
  },
  {
   "cell_type": "code",
   "execution_count": 147,
   "id": "8475d255",
   "metadata": {},
   "outputs": [
    {
     "data": {
      "text/plain": [
       "Text(0.5, 1.0, 'Persebaran Kategori Surgery Performed')"
      ]
     },
     "execution_count": 147,
     "metadata": {},
     "output_type": "execute_result"
    },
    {
     "data": {
      "image/png": "[encoded data removed]",
      "text/plain": [
       "<Figure size 1000x800 with 1 Axes>"
      ]
     },
     "metadata": {},
     "output_type": "display_data"
    }
   ],
   "source": [
    "plt.figure(figsize=(10, 8))\n",
    "sns.countplot(df_plot, x='Surgery_Performed')\n",
    "plt.title('Persebaran Kategori Surgery Performed')"
   ]
  },
  {
   "cell_type": "code",
   "execution_count": 148,
   "id": "0df4d909",
   "metadata": {},
   "outputs": [
    {
     "data": {
      "text/plain": [
       "Text(0.5, 1.0, 'Distribusi Pasien Berdasarkan Kemoterapi')"
      ]
     },
     "execution_count": 148,
     "metadata": {},
     "output_type": "execute_result"
    },
    {
     "data": {
      "image/png": "[encoded data removed]",
      "text/plain": [
       "<Figure size 1000x800 with 1 Axes>"
      ]
     },
     "metadata": {},
     "output_type": "display_data"
    }
   ],
   "source": [
    "plt.figure(figsize=(10, 8))\n",
    "sns.countplot(df_plot, x='Chemotherapy')\n",
    "plt.title('Distribusi Pasien Berdasarkan Kemoterapi')"
   ]
  },
  {
   "cell_type": "code",
   "execution_count": 149,
   "id": "14dff471",
   "metadata": {},
   "outputs": [
    {
     "data": {
      "text/plain": [
       "Text(0.5, 1.0, 'Frekuensi Riwayat Kanker dalam Keluarga')"
      ]
     },
     "execution_count": 149,
     "metadata": {},
     "output_type": "execute_result"
    },
    {
     "data": {
      "image/png": "[encoded data removed]",
      "text/plain": [
       "<Figure size 1000x800 with 1 Axes>"
      ]
     },
     "metadata": {},
     "output_type": "display_data"
    }
   ],
   "source": [
    "plt.figure(figsize=(10, 8))\n",
    "sns.countplot(df_plot, x='Family_History')\n",
    "plt.title('Frekuensi Riwayat Kanker dalam Keluarga')"
   ]
  },
  {
   "cell_type": "code",
   "execution_count": 150,
   "id": "4c8a9007",
   "metadata": {},
   "outputs": [
    {
     "data": {
      "text/plain": [
       "Text(0.5, 1.0, 'Frekuensi Kategori MRI Result')"
      ]
     },
     "execution_count": 150,
     "metadata": {},
     "output_type": "execute_result"
    },
    {
     "data": {
      "image/png": "[encoded data removed]",
      "text/plain": [
       "<Figure size 1000x800 with 1 Axes>"
      ]
     },
     "metadata": {},
     "output_type": "display_data"
    }
   ],
   "source": [
    "plt.figure(figsize=(10, 8))\n",
    "sns.countplot(df_plot, x='MRI_Result')\n",
    "plt.title('Frekuensi Kategori MRI Result')"
   ]
  },
  {
   "cell_type": "code",
   "execution_count": 151,
   "id": "d96a7ca3",
   "metadata": {},
   "outputs": [
    {
     "data": {
      "text/plain": [
       "Text(0.5, 1.0, 'Frekuensi Follow-Up Pasien')"
      ]
     },
     "execution_count": 151,
     "metadata": {},
     "output_type": "execute_result"
    },
    {
     "data": {
      "image/png": "[encoded data removed]",
      "text/plain": [
       "<Figure size 1000x800 with 1 Axes>"
      ]
     },
     "metadata": {},
     "output_type": "display_data"
    }
   ],
   "source": [
    "plt.figure(figsize=(10, 8))\n",
    "sns.countplot(df_plot, x='Follow_Up_Required')\n",
    "plt.title('Frekuensi Follow-Up Pasien')"
   ]
  },
  {
   "cell_type": "code",
   "execution_count": 152,
   "id": "e1ba2cf0",
   "metadata": {},
   "outputs": [
    {
     "data": {
      "text/plain": [
       "Text(0.5, 1.0, 'Frekuensi Setiap Jenis Diagnosis')"
      ]
     },
     "execution_count": 152,
     "metadata": {},
     "output_type": "execute_result"
    },
    {
     "data": {
      "image/png": "[encoded data removed]",
      "text/plain": [
       "<Figure size 1000x800 with 1 Axes>"
      ]
     },
     "metadata": {},
     "output_type": "display_data"
    }
   ],
   "source": [
    "plt.figure(figsize=(10, 8))\n",
    "sns.countplot(df_plot, x='Diagnosis')\n",
    "plt.title('Frekuensi Setiap Jenis Diagnosis')"
   ]
  },
  {
   "cell_type": "code",
   "execution_count": 153,
   "id": "1494074d",
   "metadata": {},
   "outputs": [
    {
     "data": {
      "text/plain": [
       "Text(0.5, 1.0, 'Distribusi Pasien Berdasarkan Gejala 1')"
      ]
     },
     "execution_count": 153,
     "metadata": {},
     "output_type": "execute_result"
    },
    {
     "data": {
      "image/png": "[encoded data removed]",
      "text/plain": [
       "<Figure size 1000x800 with 1 Axes>"
      ]
     },
     "metadata": {},
     "output_type": "display_data"
    }
   ],
   "source": [
    "plt.figure(figsize=(10, 8))\n",
    "sns.countplot(df_plot, x='Symptom_1')\n",
    "plt.title('Distribusi Pasien Berdasarkan Gejala 1')"
   ]
  },
  {
   "cell_type": "code",
   "execution_count": 154,
   "id": "2bd443f4",
   "metadata": {},
   "outputs": [
    {
     "data": {
      "text/plain": [
       "Text(0.5, 1.0, 'Distribusi Pasien Berdasarkan Gejala 2')"
      ]
     },
     "execution_count": 154,
     "metadata": {},
     "output_type": "execute_result"
    },
    {
     "data": {
      "image/png": "[encoded data removed]",
      "text/plain": [
       "<Figure size 1000x800 with 1 Axes>"
      ]
     },
     "metadata": {},
     "output_type": "display_data"
    }
   ],
   "source": [
    "plt.figure(figsize=(10, 8))\n",
    "sns.countplot(df_plot, x='Symptom_2')\n",
    "plt.title('Distribusi Pasien Berdasarkan Gejala 2')"
   ]
  },
  {
   "cell_type": "code",
   "execution_count": 155,
   "id": "e4c313a5",
   "metadata": {},
   "outputs": [
    {
     "data": {
      "text/plain": [
       "Text(0.5, 1.0, 'Distribusi Pasien Berdasarkan Gejala 3')"
      ]
     },
     "execution_count": 155,
     "metadata": {},
     "output_type": "execute_result"
    },
    {
     "data": {
      "image/png": "[encoded data removed]",
      "text/plain": [
       "<Figure size 1000x800 with 1 Axes>"
      ]
     },
     "metadata": {},
     "output_type": "display_data"
    }
   ],
   "source": [
    "plt.figure(figsize=(10, 8))\n",
    "sns.countplot(df_plot, x='Symptom_3')\n",
    "plt.title('Distribusi Pasien Berdasarkan Gejala 3')"
   ]
  },
  {
   "cell_type": "markdown",
   "id": "58b0c2b4",
   "metadata": {},
   "source": [
    "## Kesimpulan untuk distribusi setiap fitur\n",
    "- Setelah dilakukan visualisasi untuk melihat distribusi setiap fitur kami dapati bahwa semua fitur memiliki **Distribusi Normal**.\n",
    "- Tidak perlu melakukan Oversampling/Undersampling."
   ]
  },
  {
   "cell_type": "markdown",
   "id": "96b42a02",
   "metadata": {},
   "source": [
    "## Hubungan corelasi"
   ]
  },
  {
   "cell_type": "code",
   "execution_count": 156,
   "id": "375f65cd",
   "metadata": {},
   "outputs": [
    {
     "data": {
      "text/plain": [
       "<Axes: >"
      ]
     },
     "execution_count": 156,
     "metadata": {},
     "output_type": "execute_result"
    },
    {
     "data": {
      "image/png": "[encoded data removed]",
      "text/plain": [
       "<Figure size 2000x800 with 2 Axes>"
      ]
     },
     "metadata": {},
     "output_type": "display_data"
    }
   ],
   "source": [
    "plt.figure(figsize=(20, 8))\n",
    "sns.heatmap(df_plot.corr(numeric_only=True), annot=True)"
   ]
  },
  {
   "cell_type": "code",
   "execution_count": null,
   "id": "4637d89a",
   "metadata": {},
   "outputs": [],
   "source": []
  }
 ],
 "metadata": {
  "kernelspec": {
   "display_name": ".venv",
   "language": "python",
   "name": "python3"
  },
  "language_info": {
   "codemirror_mode": {
    "name": "ipython",
    "version": 3
   },
   "file_extension": ".py",
   "mimetype": "text/x-python",
   "name": "python",
   "nbconvert_exporter": "python",
   "pygments_lexer": "ipython3",
   "version": "3.13.1"
  }
 },
 "nbformat": 4,
 "nbformat_minor": 5
}
